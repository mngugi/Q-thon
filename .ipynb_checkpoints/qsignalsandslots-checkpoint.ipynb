{
 "cells": [
  {
   "cell_type": "code",
   "execution_count": 1,
   "id": "00c5bf31-ce8f-4aac-b18c-c59c70f4e0f6",
   "metadata": {},
   "outputs": [
    {
     "ename": "NameError",
     "evalue": "name 'QApplicatio' is not defined",
     "output_type": "error",
     "traceback": [
      "\u001b[0;31m---------------------------------------------------------------------------\u001b[0m",
      "\u001b[0;31mNameError\u001b[0m                                 Traceback (most recent call last)",
      "Cell \u001b[0;32mIn[1], line 4\u001b[0m\n\u001b[1;32m      1\u001b[0m \u001b[38;5;28;01mfrom\u001b[39;00m\u001b[38;5;250m \u001b[39m\u001b[38;5;21;01mPyQt6\u001b[39;00m\u001b[38;5;21;01m.\u001b[39;00m\u001b[38;5;21;01mQtWidgets\u001b[39;00m\u001b[38;5;250m \u001b[39m\u001b[38;5;28;01mimport\u001b[39;00m \u001b[38;5;241m*\u001b[39m\n\u001b[0;32m----> 4\u001b[0m app \u001b[38;5;241m=\u001b[39m QApplicatio([])\n\u001b[1;32m      5\u001b[0m btn \u001b[38;5;241m=\u001b[39m QPushButton(\u001b[38;5;124m'\u001b[39m\u001b[38;5;124mClick\u001b[39m\u001b[38;5;124m'\u001b[39m)\n\u001b[1;32m      7\u001b[0m \u001b[38;5;28;01mdef\u001b[39;00m\u001b[38;5;250m \u001b[39m\u001b[38;5;21monbuttonClick\u001b[39m():\n",
      "\u001b[0;31mNameError\u001b[0m: name 'QApplicatio' is not defined"
     ]
    }
   ],
   "source": [
    "from PyQt6.QtWidgets import *\n",
    "\n",
    "\n",
    "app = QApplication([])\n",
    "btn = QPushButton('Click')\n",
    "\n",
    "def onbuttonClick():\n",
    "    alert = QMessageBox()\n",
    "    alert.setText('button clicked')\n",
    "    alert.exec()\n",
    "btn.show()\n",
    "app.exec()\n",
    "\n"
   ]
  },
  {
   "cell_type": "code",
   "execution_count": null,
   "id": "c4a6c93d-8357-4d17-b701-ad7001fb9ede",
   "metadata": {},
   "outputs": [],
   "source": []
  }
 ],
 "metadata": {
  "kernelspec": {
   "display_name": "Python [conda env:base] *",
   "language": "python",
   "name": "conda-base-py"
  },
  "language_info": {
   "codemirror_mode": {
    "name": "ipython",
    "version": 3
   },
   "file_extension": ".py",
   "mimetype": "text/x-python",
   "name": "python",
   "nbconvert_exporter": "python",
   "pygments_lexer": "ipython3",
   "version": "3.13.5"
  }
 },
 "nbformat": 4,
 "nbformat_minor": 5
}
