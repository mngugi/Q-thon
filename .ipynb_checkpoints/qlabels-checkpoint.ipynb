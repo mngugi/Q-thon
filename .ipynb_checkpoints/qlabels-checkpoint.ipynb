{
 "cells": [
  {
   "cell_type": "code",
   "execution_count": null,
   "id": "b97baab5-9e73-40ea-b586-df43d2af9105",
   "metadata": {},
   "outputs": [],
   "source": [
    "from PyQt6.QtWidgets import *\n",
    "\n",
    "app = QApplication([])\n",
    "label = QLabel('Global Warming!')\n",
    "label.show()\n",
    "\n",
    "app.exec()"
   ]
  }
 ],
 "metadata": {
  "kernelspec": {
   "display_name": "Python [conda env:base] *",
   "language": "python",
   "name": "conda-base-py"
  },
  "language_info": {
   "codemirror_mode": {
    "name": "ipython",
    "version": 3
   },
   "file_extension": ".py",
   "mimetype": "text/x-python",
   "name": "python",
   "nbconvert_exporter": "python",
   "pygments_lexer": "ipython3",
   "version": "3.13.5"
  }
 },
 "nbformat": 4,
 "nbformat_minor": 5
}
