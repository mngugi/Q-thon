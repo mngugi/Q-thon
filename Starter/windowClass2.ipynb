{
 "cells": [
  {
   "cell_type": "code",
   "execution_count": 1,
   "id": "6fb340e1-4239-4138-aadc-f76c666a2945",
   "metadata": {},
   "outputs": [
    {
     "ename": "",
     "evalue": "",
     "output_type": "error",
     "traceback": [
      "\u001b[1;31mThe Kernel crashed while executing code in the current cell or a previous cell. \n",
      "\u001b[1;31mPlease review the code in the cell(s) to identify a possible cause of the failure. \n",
      "\u001b[1;31mClick <a href='https://aka.ms/vscodeJupyterKernelCrash'>here</a> for more info. \n",
      "\u001b[1;31mView Jupyter <a href='command:jupyter.viewOutput'>log</a> for further details."
     ]
    }
   ],
   "source": [
    "import sys\n",
    "# Qt imports common ones\n",
    "from PySide6.QtCore import QSize, Qt\n",
    "from PySide6.QtWidgets import QApplication, QMainWindow, QPushButton\n",
    "\n",
    "class mainWindow(QMainWindow):\n",
    "    def __init__(self):   # must call __init__\n",
    "        super().__init__()\n",
    "        self.btn_Checked = True\n",
    "        \n",
    "        self.setWindowTitle(\"Button App\")\n",
    "        self.setFixedSize(QSize(400,300)) #setting the size of the window\n",
    "        self.setMinimumSize(QSize(200,100)) #setting the minimum size for the window\n",
    "        \n",
    "        btn = QPushButton(\"Press\")\n",
    "        btn.setCheckable(True)\n",
    "        \n",
    "        #btn.clicked.connect(self.button_clicked)\n",
    "        btn.clicked.connect(self.button_clicked) #a checked (or toggled) state for the button\n",
    "        btn.toggled.connect(self.btn_toggled)\n",
    "        \n",
    "        self.setCentralWidget(btn)  #Use .setCentralWidget to place a widget in the QMainWindow\n",
    "\n",
    "    def button_clicked(self):   #a simple custom slot named button_clicked which  accepts the clicked signal from the QPushButton\n",
    "        print(\"Clicked!!\")\n",
    "\n",
    "    def btn_toggled(self, checked):\n",
    "        self.btn_Checked = checked\n",
    "        print(self.btn_Checked)\n",
    "        \n",
    "        \n",
    "app = QApplication.instance()        # Check if QApplication already exists, wrap QAppication in a check\n",
    "\n",
    "if app is None:\n",
    "    app = QApplication(sys.argv) \n",
    "\n",
    "window = mainWindow()\n",
    "window.show()\n",
    "\n",
    "app.exec()"
   ]
  },
  {
   "cell_type": "code",
   "execution_count": null,
   "id": "44d007ef-d692-42c7-92df-82a9ce89f5e1",
   "metadata": {},
   "outputs": [],
   "source": []
  }
 ],
 "metadata": {
  "kernelspec": {
   "display_name": "base",
   "language": "python",
   "name": "python3"
  },
  "language_info": {
   "codemirror_mode": {
    "name": "ipython",
    "version": 3
   },
   "file_extension": ".py",
   "mimetype": "text/x-python",
   "name": "python",
   "nbconvert_exporter": "python",
   "pygments_lexer": "ipython3",
   "version": "3.13.5"
  }
 },
 "nbformat": 4,
 "nbformat_minor": 5
}
