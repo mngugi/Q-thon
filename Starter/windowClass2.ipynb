{
 "cells": [
  {
   "cell_type": "code",
   "execution_count": 1,
   "id": "6fb340e1-4239-4138-aadc-f76c666a2945",
   "metadata": {},
   "outputs": [
    {
     "name": "stderr",
     "output_type": "stream",
     "text": [
      "Gtk-Message: 00:05:17.962: Failed to load module \"canberra-gtk-module\"\n",
      "Gtk-Message: 00:05:17.962: Failed to load module \"canberra-gtk-module\"\n"
     ]
    },
    {
     "ename": "TypeError",
     "evalue": "Expected signal or callable, got \"bool\"",
     "output_type": "error",
     "traceback": [
      "\u001b[0;31m---------------------------------------------------------------------------\u001b[0m",
      "\u001b[0;31mTypeError\u001b[0m                                 Traceback (most recent call last)",
      "Cell \u001b[0;32mIn[1], line 35\u001b[0m\n\u001b[1;32m     32\u001b[0m \u001b[38;5;28;01mif\u001b[39;00m app \u001b[38;5;129;01mis\u001b[39;00m \u001b[38;5;28;01mNone\u001b[39;00m:\n\u001b[1;32m     33\u001b[0m     app \u001b[38;5;241m=\u001b[39m QApplication(sys\u001b[38;5;241m.\u001b[39margv) \n\u001b[0;32m---> 35\u001b[0m window \u001b[38;5;241m=\u001b[39m mainWindow()\n\u001b[1;32m     36\u001b[0m window\u001b[38;5;241m.\u001b[39mshow()\n\u001b[1;32m     38\u001b[0m app\u001b[38;5;241m.\u001b[39mexec()\n",
      "Cell \u001b[0;32mIn[1], line 18\u001b[0m, in \u001b[0;36mmainWindow.__init__\u001b[0;34m(self)\u001b[0m\n\u001b[1;32m     15\u001b[0m btn\u001b[38;5;241m.\u001b[39msetCheckable(\u001b[38;5;28;01mTrue\u001b[39;00m)\n\u001b[1;32m     17\u001b[0m \u001b[38;5;66;03m#btn.clicked.connect(self.button_clicked)\u001b[39;00m\n\u001b[0;32m---> 18\u001b[0m btn\u001b[38;5;241m.\u001b[39mclicked\u001b[38;5;241m.\u001b[39mconnect(\u001b[38;5;28mself\u001b[39m\u001b[38;5;241m.\u001b[39mbtn_Checked) \u001b[38;5;66;03m#a checked (or toggled) state for the button\u001b[39;00m\n\u001b[1;32m     20\u001b[0m \u001b[38;5;28mself\u001b[39m\u001b[38;5;241m.\u001b[39msetCentralWidget(btn)\n",
      "\u001b[0;31mTypeError\u001b[0m: Expected signal or callable, got \"bool\""
     ]
    }
   ],
   "source": [
    "import sys\n",
    "# Qt imports common ones\n",
    "from PySide6.QtCore import QSize, Qt\n",
    "from PySide6.QtWidgets import QApplication, QMainWindow, QPushButton\n",
    "\n",
    "class mainWindow(QMainWindow):\n",
    "    def __init__(self):   # must call __init__\n",
    "        super().__init__()\n",
    "        self.btn_Checked = True\n",
    "        \n",
    "        self.setWindowTitle(\"Button App\")\n",
    "        self.setFixedSize(QSize(400,300)) #setting the size of the window\n",
    "        self.setMinimumSize(QSize(200,100)) #setting the minimum size for the window\n",
    "        btn = QPushButton(\"Press\")\n",
    "        btn.setCheckable(True)\n",
    "        \n",
    "        #btn.clicked.connect(self.button_clicked)\n",
    "        btn.clicked.connect(self.btn_Checked) #a checked (or toggled) state for the button\n",
    "        \n",
    "        self.setCentralWidget(btn)  #Use .setCentralWidget to place a widget in the QMainWindow\n",
    "\n",
    "    def button_clicked(self):   #a simple custom slot named button_clicked which  accepts the clicked signal from the QPushButton\n",
    "        print(\"Clicked!!\")\n",
    "\n",
    "    def btn_toggled(self, checked):\n",
    "        self.btn_Checked = checked\n",
    "        print(self.btn_Checked)\n",
    "        \n",
    "        \n",
    "app = QApplication.instance()        # Check if QApplication already exists, wrap QAppication in a check\n",
    "\n",
    "if app is None:\n",
    "    app = QApplication(sys.argv) \n",
    "\n",
    "window = mainWindow()\n",
    "window.show()\n",
    "\n",
    "app.exec()"
   ]
  },
  {
   "cell_type": "code",
   "execution_count": null,
   "id": "44d007ef-d692-42c7-92df-82a9ce89f5e1",
   "metadata": {},
   "outputs": [],
   "source": []
  }
 ],
 "metadata": {
  "kernelspec": {
   "display_name": "Python [conda env:base] *",
   "language": "python",
   "name": "conda-base-py"
  },
  "language_info": {
   "codemirror_mode": {
    "name": "ipython",
    "version": 3
   },
   "file_extension": ".py",
   "mimetype": "text/x-python",
   "name": "python",
   "nbconvert_exporter": "python",
   "pygments_lexer": "ipython3",
   "version": "3.13.5"
  }
 },
 "nbformat": 4,
 "nbformat_minor": 5
}
