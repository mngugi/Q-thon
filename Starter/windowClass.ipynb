{
 "cells": [
  {
   "cell_type": "code",
   "execution_count": null,
   "id": "e2eb30cb-ab5f-452f-9616-37f5479b3861",
   "metadata": {},
   "outputs": [],
   "source": [
    "import sys\n",
    "\n",
    "from PySide6.QtCore import QSize, Qt\n",
    "from PySide6.QtWidgets import QApplication, QMainWindow, QPushButton\n",
    "\n",
    "class mainWindow(QMainWindow):\n",
    "    def __init__(self):\n",
    "        super().__init__()\n",
    "        self.setWindowTitle(\"Button App\")\n",
    "        btn = QPushButton(\"Press\")\n",
    "        self.setCentralWidget(btn)\n",
    "        \n",
    "app = QApplication(sys.argv)\n",
    "\n",
    "window = mainWindow()\n",
    "window.show()\n",
    "\n",
    "app.exec()"
   ]
  }
 ],
 "metadata": {
  "kernelspec": {
   "display_name": "Python [conda env:base] *",
   "language": "python",
   "name": "conda-base-py"
  },
  "language_info": {
   "codemirror_mode": {
    "name": "ipython",
    "version": 3
   },
   "file_extension": ".py",
   "mimetype": "text/x-python",
   "name": "python",
   "nbconvert_exporter": "python",
   "pygments_lexer": "ipython3",
   "version": "3.13.5"
  }
 },
 "nbformat": 4,
 "nbformat_minor": 5
}
