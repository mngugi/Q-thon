{
 "cells": [
  {
   "cell_type": "code",
   "execution_count": 9,
   "id": "e2eb30cb-ab5f-452f-9616-37f5479b3861",
   "metadata": {},
   "outputs": [
    {
     "data": {
      "text/plain": [
       "0"
      ]
     },
     "execution_count": 9,
     "metadata": {},
     "output_type": "execute_result"
    }
   ],
   "source": [
    "import sys\n",
    "# Qt imports common ones\n",
    "from PySide6.QtCore import QSize, Qt\n",
    "from PySide6.QtWidgets import QApplication, QMainWindow, QPushButton\n",
    "\n",
    "class mainWindow(QMainWindow):\n",
    "    def __init__(self):   # must call __init__\n",
    "        super().__init__()\n",
    "        self.setWindowTitle(\"Button App\")\n",
    "        self.setFixedSize(QSize(400,300)) #setting the size of the window\n",
    "        btn = QPushButton(\"Press\")\n",
    "        \n",
    "        self.setCentralWidget(btn)  #Use .setCentralWidget to place a widget in the QMainWindow\n",
    "        \n",
    "app = QApplication.instance()        # Check if QApplication already exists, wrap QAppication in a check\n",
    "\n",
    "if app is None:\n",
    "    app = QApplication(sys.argv) \n",
    "\n",
    "window = mainWindow()\n",
    "window.show()\n",
    "\n",
    "app.exec()\n"
   ]
  },
  {
   "cell_type": "code",
   "execution_count": null,
   "id": "978e9d2c-6222-440c-83c9-8048dfadf5b2",
   "metadata": {},
   "outputs": [],
   "source": []
  },
  {
   "cell_type": "code",
   "execution_count": null,
   "id": "8df27420-15fa-4d01-9e33-45731116ea35",
   "metadata": {},
   "outputs": [],
   "source": []
  }
 ],
 "metadata": {
  "kernelspec": {
   "display_name": "Python [conda env:base] *",
   "language": "python",
   "name": "conda-base-py"
  },
  "language_info": {
   "codemirror_mode": {
    "name": "ipython",
    "version": 3
   },
   "file_extension": ".py",
   "mimetype": "text/x-python",
   "name": "python",
   "nbconvert_exporter": "python",
   "pygments_lexer": "ipython3",
   "version": "3.13.5"
  }
 },
 "nbformat": 4,
 "nbformat_minor": 5
}
