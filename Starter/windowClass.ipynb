{
 "cells": [
  {
   "cell_type": "code",
   "execution_count": 1,
   "id": "e2eb30cb-ab5f-452f-9616-37f5479b3861",
   "metadata": {},
   "outputs": [
    {
     "name": "stderr",
     "output_type": "stream",
     "text": [
      "Gtk-Message: 18:46:56.642: Failed to load module \"canberra-gtk-module\"\n",
      "Gtk-Message: 18:46:56.643: Failed to load module \"canberra-gtk-module\"\n"
     ]
    },
    {
     "data": {
      "text/plain": [
       "0"
      ]
     },
     "execution_count": 1,
     "metadata": {},
     "output_type": "execute_result"
    }
   ],
   "source": [
    "import sys\n",
    "\n",
    "from PySide6.QtCore import QSize, Qt\n",
    "from PySide6.QtWidgets import QApplication, QMainWindow, QPushButton\n",
    "\n",
    "class mainWindow(QMainWindow):\n",
    "    def __init__(self):\n",
    "        super().__init__()\n",
    "        self.setWindowTitle(\"Button App\")\n",
    "        btn = QPushButton(\"Press\")\n",
    "        self.setCentralWidget(btn)\n",
    "        \n",
    "app = QApplication(sys.argv)\n",
    "\n",
    "window = mainWindow()\n",
    "window.show()\n",
    "\n",
    "app.exec()"
   ]
  },
  {
   "cell_type": "code",
   "execution_count": null,
   "id": "b3b8d7b3-1d90-404a-8f22-18546ec9dc73",
   "metadata": {},
   "outputs": [],
   "source": []
  },
  {
   "cell_type": "code",
   "execution_count": null,
   "id": "70a45d35-cd4d-4ffb-9903-0923b08b29f7",
   "metadata": {},
   "outputs": [],
   "source": []
  }
 ],
 "metadata": {
  "kernelspec": {
   "display_name": "Python [conda env:base] *",
   "language": "python",
   "name": "conda-base-py"
  },
  "language_info": {
   "codemirror_mode": {
    "name": "ipython",
    "version": 3
   },
   "file_extension": ".py",
   "mimetype": "text/x-python",
   "name": "python",
   "nbconvert_exporter": "python",
   "pygments_lexer": "ipython3",
   "version": "3.13.5"
  }
 },
 "nbformat": 4,
 "nbformat_minor": 5
}
