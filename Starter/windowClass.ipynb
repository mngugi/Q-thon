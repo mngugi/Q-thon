{
 "cells": [
  {
   "cell_type": "code",
   "execution_count": 4,
   "id": "e2eb30cb-ab5f-452f-9616-37f5479b3861",
   "metadata": {},
   "outputs": [
    {
     "ename": "RuntimeError",
     "evalue": "Please destroy the QApplication singleton before creating a new QApplication instance.",
     "output_type": "error",
     "traceback": [
      "\u001b[0;31m---------------------------------------------------------------------------\u001b[0m",
      "\u001b[0;31mRuntimeError\u001b[0m                              Traceback (most recent call last)",
      "Cell \u001b[0;32mIn[4], line 15\u001b[0m\n\u001b[1;32m     11\u001b[0m         \u001b[38;5;28mself\u001b[39m\u001b[38;5;241m.\u001b[39msetFixedSize(QSize(\u001b[38;5;241m400\u001b[39m,\u001b[38;5;241m300\u001b[39m)) \u001b[38;5;66;03m#setting the size of the window\u001b[39;00m\n\u001b[1;32m     12\u001b[0m         \u001b[38;5;28mself\u001b[39m\u001b[38;5;241m.\u001b[39msetCentralWidget(btn)  \u001b[38;5;66;03m#Use .setCentralWidget to place a widget in the QMainWindow\u001b[39;00m\n\u001b[0;32m---> 15\u001b[0m app \u001b[38;5;241m=\u001b[39m QApplication(sys\u001b[38;5;241m.\u001b[39margv)\n\u001b[1;32m     17\u001b[0m window \u001b[38;5;241m=\u001b[39m mainWindow()\n\u001b[1;32m     18\u001b[0m window\u001b[38;5;241m.\u001b[39mshow()\n",
      "\u001b[0;31mRuntimeError\u001b[0m: Please destroy the QApplication singleton before creating a new QApplication instance."
     ]
    }
   ],
   "source": [
    "import sys\n",
    "# Qt imports common ones\n",
    "from PySide6.QtCore import QSize, Qt\n",
    "from PySide6.QtWidgets import QApplication, QMainWindow, QPushButton\n",
    "\n",
    "class mainWindow(QMainWindow):\n",
    "    def __init__(self):   # must call __init__\n",
    "        super().__init__()\n",
    "        self.setWindowTitle(\"Button App\")\n",
    "        self.setFixedSize(QSize(400,300)) #setting the size of the window\n",
    "        btn = QPushButton(\"Press\")\n",
    "        \n",
    "        self.setCentralWidget(btn)  #Use .setCentralWidget to place a widget in the QMainWindow\n",
    "        \n",
    "        \n",
    "app = QApplication(sys.argv)\n",
    "\n",
    "window = mainWindow()\n",
    "window.show()\n",
    "\n",
    "app.exec()"
   ]
  },
  {
   "cell_type": "code",
   "execution_count": null,
   "id": "b3b8d7b3-1d90-404a-8f22-18546ec9dc73",
   "metadata": {},
   "outputs": [],
   "source": []
  },
  {
   "cell_type": "code",
   "execution_count": null,
   "id": "70a45d35-cd4d-4ffb-9903-0923b08b29f7",
   "metadata": {},
   "outputs": [],
   "source": []
  }
 ],
 "metadata": {
  "kernelspec": {
   "display_name": "Python [conda env:base] *",
   "language": "python",
   "name": "conda-base-py"
  },
  "language_info": {
   "codemirror_mode": {
    "name": "ipython",
    "version": 3
   },
   "file_extension": ".py",
   "mimetype": "text/x-python",
   "name": "python",
   "nbconvert_exporter": "python",
   "pygments_lexer": "ipython3",
   "version": "3.13.5"
  }
 },
 "nbformat": 4,
 "nbformat_minor": 5
}
