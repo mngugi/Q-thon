{
 "cells": [
  {
   "cell_type": "code",
   "execution_count": null,
   "id": "1b5a46c2-47c4-4098-aa60-d92a69ffb694",
   "metadata": {},
   "outputs": [],
   "source": []
  },
  {
   "cell_type": "code",
   "execution_count": 26,
   "id": "4b8bc2de-c953-4ad8-8887-4869526a79aa",
   "metadata": {},
   "outputs": [
    {
     "data": {
      "text/plain": [
       "0"
      ]
     },
     "execution_count": 26,
     "metadata": {},
     "output_type": "execute_result"
    }
   ],
   "source": [
    "import sys\n",
    "# Qt imports common ones\n",
    "\n",
    "from PySide6.QtWidgets import QApplication, QMainWindow, QPushButton\n",
    "\n",
    "\n",
    "class mainWindow(QMainWindow):\n",
    "    def __init__(self):   # must call __init__\n",
    "        super().__init__()\n",
    "        self.btn_Checked = True\n",
    "        \n",
    "        self.setWindowTitle(\"Clicked App\")\n",
    "        \n",
    "        # Create the button and assign it to self.button instead of btn\n",
    "        self.button = QPushButton(\"Press\")\n",
    "        # Now self.button exists and can be used\n",
    "        self.setCentralWidget(self.button)\n",
    "        \n",
    "        # Connect the button's clicked signal to the btn_clicked method\n",
    "        self.button.clicked.connect(self.btn_clicked)\n",
    "\n",
    "    def btn_clicked(self):\n",
    "        if self.button.text() == \"Press\":\n",
    "            self.button.setText(\"Was clicked ;0\") #passing a str to setText()\n",
    "            #self.button.setEnabled(False) # once you click the button the button becomes disbled\n",
    "                                          # you cannot continue  \n",
    "            self.setWindowTitle(\"App shot\")\n",
    "            self.setWindowTitle(\"Continue Clicking\")\n",
    "        else:\n",
    "            self.button.setText(\"Press\")\n",
    "            self.setWindowTitle(\"Clicked App\")\n",
    "\n",
    "        \n",
    "\n",
    "# Create QApplication instance first (required for any Qt application)\n",
    "app = QApplication.instance()  # check if one already exists\n",
    "if app is None:\n",
    "    app = QApplication(sys.argv)\n",
    "\n",
    "window = mainWindow()\n",
    "window.show()\n",
    "\n",
    "# Start the event loop (needed to keep the window open)\n",
    "app.exec()"
   ]
  },
  {
   "cell_type": "code",
   "execution_count": null,
   "id": "efbcec9f-0c62-42f1-83c2-c446fc204693",
   "metadata": {},
   "outputs": [],
   "source": []
  }
 ],
 "metadata": {
  "kernelspec": {
   "display_name": "Python [conda env:base] *",
   "language": "python",
   "name": "conda-base-py"
  },
  "language_info": {
   "codemirror_mode": {
    "name": "ipython",
    "version": 3
   },
   "file_extension": ".py",
   "mimetype": "text/x-python",
   "name": "python",
   "nbconvert_exporter": "python",
   "pygments_lexer": "ipython3",
   "version": "3.13.5"
  }
 },
 "nbformat": 4,
 "nbformat_minor": 5
}
