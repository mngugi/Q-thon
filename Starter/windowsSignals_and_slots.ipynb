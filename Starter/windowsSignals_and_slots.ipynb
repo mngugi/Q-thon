{
 "cells": [
  {
   "cell_type": "code",
   "execution_count": 2,
   "id": "a970d531-48da-44a0-92a0-ca527d5d4798",
   "metadata": {},
   "outputs": [
    {
     "name": "stderr",
     "output_type": "stream",
     "text": [
      "Gtk-Message: 21:29:15.458: Failed to load module \"canberra-gtk-module\"\n",
      "Gtk-Message: 21:29:15.458: Failed to load module \"canberra-gtk-module\"\n"
     ]
    },
    {
     "ename": "NameError",
     "evalue": "name 'QSize' is not defined",
     "output_type": "error",
     "traceback": [
      "\u001b[0;31m---------------------------------------------------------------------------\u001b[0m",
      "\u001b[0;31mNameError\u001b[0m                                 Traceback (most recent call last)",
      "Cell \u001b[0;32mIn[2], line 29\u001b[0m\n\u001b[1;32m     25\u001b[0m \u001b[38;5;28;01mif\u001b[39;00m app \u001b[38;5;129;01mis\u001b[39;00m \u001b[38;5;28;01mNone\u001b[39;00m:\n\u001b[1;32m     26\u001b[0m     app \u001b[38;5;241m=\u001b[39m QApplication(sys\u001b[38;5;241m.\u001b[39margv) \n\u001b[0;32m---> 29\u001b[0m window \u001b[38;5;241m=\u001b[39m mainWindow()\n\u001b[1;32m     30\u001b[0m window\u001b[38;5;241m.\u001b[39mshow()\n\u001b[1;32m     32\u001b[0m app\u001b[38;5;241m.\u001b[39mexec()\n",
      "Cell \u001b[0;32mIn[2], line 12\u001b[0m, in \u001b[0;36mmainWindow.__init__\u001b[0;34m(self)\u001b[0m\n\u001b[1;32m      9\u001b[0m \u001b[38;5;28mself\u001b[39m\u001b[38;5;241m.\u001b[39mbtn_Checked \u001b[38;5;241m=\u001b[39m \u001b[38;5;28;01mTrue\u001b[39;00m\n\u001b[1;32m     11\u001b[0m \u001b[38;5;28mself\u001b[39m\u001b[38;5;241m.\u001b[39msetWindowTitle(\u001b[38;5;124m\"\u001b[39m\u001b[38;5;124mClicked App\u001b[39m\u001b[38;5;124m\"\u001b[39m)\n\u001b[0;32m---> 12\u001b[0m \u001b[38;5;28mself\u001b[39m\u001b[38;5;241m.\u001b[39msetFixedSize(QSize(\u001b[38;5;241m400\u001b[39m,\u001b[38;5;241m300\u001b[39m)) \u001b[38;5;66;03m#setting the size of the window\u001b[39;00m\n\u001b[1;32m     13\u001b[0m \u001b[38;5;28mself\u001b[39m\u001b[38;5;241m.\u001b[39msetMinimumSize(QSize(\u001b[38;5;241m200\u001b[39m,\u001b[38;5;241m100\u001b[39m)) \u001b[38;5;66;03m#setting the minimum size for the window\u001b[39;00m\n\u001b[1;32m     15\u001b[0m btn \u001b[38;5;241m=\u001b[39m QPushButton(\u001b[38;5;124m\"\u001b[39m\u001b[38;5;124mPress\u001b[39m\u001b[38;5;124m\"\u001b[39m)\n",
      "\u001b[0;31mNameError\u001b[0m: name 'QSize' is not defined"
     ]
    }
   ],
   "source": [
    "import sys\n",
    "# Qt imports common ones\n",
    "\n",
    "from PySide6.QtWidgets import QApplication, QMainWindow, QPushButton\n",
    "\n",
    "class mainWindow(QMainWindow):\n",
    "    def __init__(self):   # must call __init__\n",
    "        super().__init__()\n",
    "        self.btn_Checked = True\n",
    "        \n",
    "        self.setWindowTitle(\"Clicked App\")\n",
    "        \n",
    "        \n",
    "        btn = QPushButton(\"Press\")\n",
    "        self.setCentralWidget(self.button)\n",
    "\n",
    "    def btn_clicked(self):\n",
    "        self.button.setText(\"Was clicked ;0\")\n",
    "        self.button.setEnabled(False)\n",
    "\n",
    "        self.setWindowTitle(\"App shot\")\n",
    "        \n",
    "app = QApplication(sys.argv)\n",
    "if app is None:\n",
    "    app = QApplication(sys.argv) \n",
    "\n",
    "\n",
    "window = mainWindow()\n",
    "window.show()\n",
    "\n",
    "app.exec()"
   ]
  },
  {
   "cell_type": "code",
   "execution_count": null,
   "id": "1b5a46c2-47c4-4098-aa60-d92a69ffb694",
   "metadata": {},
   "outputs": [],
   "source": []
  }
 ],
 "metadata": {
  "kernelspec": {
   "display_name": "Python [conda env:base] *",
   "language": "python",
   "name": "conda-base-py"
  },
  "language_info": {
   "codemirror_mode": {
    "name": "ipython",
    "version": 3
   },
   "file_extension": ".py",
   "mimetype": "text/x-python",
   "name": "python",
   "nbconvert_exporter": "python",
   "pygments_lexer": "ipython3",
   "version": "3.13.5"
  }
 },
 "nbformat": 4,
 "nbformat_minor": 5
}
