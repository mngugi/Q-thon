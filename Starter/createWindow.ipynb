{
 "cells": [
  {
   "cell_type": "markdown",
   "id": "13aaf6cf-741a-4ab3-bbc6-e62b8293c144",
   "metadata": {},
   "source": [
    "- First, we import the PySide6 classes that we need for the application. Here we’re importing QApplication, the application handler and QWidget, a \n",
    "  basic empty GUI  widget, both from the QtWidgets module.\n",
    "\n",
    "- main modules for Qt are QtWidgets, QtGui and QtCore."
   ]
  },
  {
   "cell_type": "code",
   "execution_count": 1,
   "id": "3fd6f43d-6322-4b9b-8993-67c33e0f7124",
   "metadata": {},
   "outputs": [
    {
     "name": "stderr",
     "output_type": "stream",
     "text": [
      "Gtk-Message: 21:04:20.804: Failed to load module \"canberra-gtk-module\"\n",
      "Gtk-Message: 21:04:20.805: Failed to load module \"canberra-gtk-module\"\n"
     ]
    },
    {
     "data": {
      "text/plain": [
       "0"
      ]
     },
     "execution_count": 1,
     "metadata": {},
     "output_type": "execute_result"
    }
   ],
   "source": [
    "from PySide6.QtWidgets import QApplication, QWidget\n",
    "\n",
    "import sys\n",
    "\n",
    "app = QApplication(sys.argv)  #create an instance of QApplication, passing in sys.arg, which is Python\n",
    "#list containing the command line arguments passed to the application.\n",
    "\n",
    "window = QWidget()\n",
    "\n",
    "window.show()\n",
    "\n",
    "app.exec()\n"
   ]
  },
  {
   "cell_type": "code",
   "execution_count": null,
   "id": "c8985fed-3789-4d85-b37f-c44e64d39fb9",
   "metadata": {},
   "outputs": [],
   "source": []
  }
 ],
 "metadata": {
  "kernelspec": {
   "display_name": "Python [conda env:base] *",
   "language": "python",
   "name": "conda-base-py"
  },
  "language_info": {
   "codemirror_mode": {
    "name": "ipython",
    "version": 3
   },
   "file_extension": ".py",
   "mimetype": "text/x-python",
   "name": "python",
   "nbconvert_exporter": "python",
   "pygments_lexer": "ipython3",
   "version": "3.13.5"
  }
 },
 "nbformat": 4,
 "nbformat_minor": 5
}
