{
 "cells": [
  {
   "cell_type": "markdown",
   "id": "13aaf6cf-741a-4ab3-bbc6-e62b8293c144",
   "metadata": {},
   "source": [
    "- First, we import the PySide6 classes that we need for the application. Here we’re importing QApplication, the application handler and QWidget, a \n",
    "  basic empty GUI  widget, both from the QtWidgets module.\n",
    "\n",
    "- main modules for Qt are QtWidgets, QtGui and QtCore."
   ]
  },
  {
   "cell_type": "code",
   "execution_count": 1,
   "id": "3fd6f43d-6322-4b9b-8993-67c33e0f7124",
   "metadata": {},
   "outputs": [
    {
     "name": "stderr",
     "output_type": "stream",
     "text": [
      "Gtk-Message: 21:04:20.804: Failed to load module \"canberra-gtk-module\"\n",
      "Gtk-Message: 21:04:20.805: Failed to load module \"canberra-gtk-module\"\n"
     ]
    },
    {
     "data": {
      "text/plain": [
       "0"
      ]
     },
     "execution_count": 1,
     "metadata": {},
     "output_type": "execute_result"
    }
   ],
   "source": [
    "from PySide6.QtWidgets import QApplication, QWidget\n",
    "\n",
    "import sys\n",
    "\n",
    "app = QApplication(sys.argv)  #create an instance of QApplication, passing in sys.arg, which is Python\n",
    "#list containing the command line arguments passed to the application.\n",
    "\n",
    "#create an instance of a QWidget using the variable name window.\n",
    "window = QWidget()\n",
    "window.show()\n",
    "\n",
    "#call app.exec() to start up the event loop.\n",
    "app.exec()\n"
   ]
  },
  {
   "cell_type": "markdown",
   "id": "6cd23332-caf8-4d98-b480-69f5e2abf424",
   "metadata": {},
   "source": [
    "- The core of every Qt Applications is the QApplication class. Every application  needs one — and only one — QApplication object to function. This object holds  the event loop of your application — the core loop which governs all user  interaction with the GUI.\n",
    "\n",
    "- The QApplication class\n",
    "\n",
    "-  QApplication holds the Qt event loop\n",
    "\n",
    "-   One QApplication instance required\n",
    "\n",
    "-   You application sits waiting in the event loop until an action  is taken\n",
    "\n",
    "-   There is only one event loop at any time"
   ]
  },
  {
   "cell_type": "code",
   "execution_count": null,
   "id": "8ca2e905-dd13-4ef5-b417-ca08490a4822",
   "metadata": {},
   "outputs": [],
   "source": []
  }
 ],
 "metadata": {
  "kernelspec": {
   "display_name": "Python [conda env:base] *",
   "language": "python",
   "name": "conda-base-py"
  },
  "language_info": {
   "codemirror_mode": {
    "name": "ipython",
    "version": 3
   },
   "file_extension": ".py",
   "mimetype": "text/x-python",
   "name": "python",
   "nbconvert_exporter": "python",
   "pygments_lexer": "ipython3",
   "version": "3.13.5"
  }
 },
 "nbformat": 4,
 "nbformat_minor": 5
}
