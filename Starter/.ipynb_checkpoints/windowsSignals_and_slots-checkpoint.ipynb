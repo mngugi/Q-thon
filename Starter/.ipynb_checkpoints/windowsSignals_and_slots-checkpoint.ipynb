{
 "cells": [
  {
   "cell_type": "code",
   "execution_count": 36,
   "id": "4b8bc2de-c953-4ad8-8887-4869526a79aa",
   "metadata": {},
   "outputs": [
    {
     "data": {
      "text/plain": [
       "0"
      ]
     },
     "execution_count": 36,
     "metadata": {},
     "output_type": "execute_result"
    }
   ],
   "source": [
    "import sys\n",
    "# Qt imports common ones\n",
    "\n",
    "from PySide6.QtWidgets import QApplication, QMainWindow, QPushButton\n",
    "\n",
    "\n",
    "class mainWindow(QMainWindow):\n",
    "    def __init__(self):   # must call __init__\n",
    "        super().__init__()\n",
    "        self.btn_Checked = True\n",
    "        \n",
    "        self.setWindowTitle(\"Clicked App\")\n",
    "        \n",
    "        # Create the button and assign it to self.button instead of btn\n",
    "        self.button = QPushButton(\"Press\")\n",
    "        # Apply stylesheet for colors\n",
    "        self.button.setStyleSheet(\"\"\"\n",
    "            QPushButton {\n",
    "            background-color: lightblue;   /* button background */\n",
    "            color: darkred;               /* text color */\n",
    "            font-size: 16px;              /* bigger text */\n",
    "            border-radius: 10px;          /* rounded corners */\n",
    "            padding: 8px;\n",
    "            }\n",
    "            QPushButton:hover {\n",
    "            background-color: lightgreen; /* color when hovering */\n",
    "                }\n",
    "            QPushButton:pressed {\n",
    "            background-color: orange;     /* color when pressed */\n",
    "            }\n",
    "            \"\"\")\n",
    "        # Now self.button exists and can be used\n",
    "        self.setCentralWidget(self.button)\n",
    "        # self.setAnimated(self.button)\n",
    "        \n",
    "        # Connect the button's clicked signal to the btn_clicked method\n",
    "        self.button.clicked.connect(self.btn_clicked)\n",
    "\n",
    "    def btn_clicked(self):\n",
    "        if self.button.text() == \"Press\":\n",
    "            # State 1 → State 2\n",
    "            self.button.setText(\"Was clicked ;0\")\n",
    "            self.setWindowTitle(\"App shot\")\n",
    "\n",
    "        elif self.button.text() == \"Was clicked ;0\":\n",
    "            # State 2 → State 3\n",
    "            self.button.setText(\"Reset\")\n",
    "            self.setWindowTitle(\"Continue Clicking\")\n",
    "\n",
    "        else:\n",
    "            # State 3 → back to State 1\n",
    "            self.button.setText(\"Press\")\n",
    "            self.setWindowTitle(\"Clicked App\")\n",
    "\n",
    "        \n",
    "# Create QApplication instance first (required for any Qt application)\n",
    "app = QApplication.instance()  # check if one already exists\n",
    "if app is None:\n",
    "    app = QApplication(sys.argv)\n",
    "\n",
    "window = mainWindow()\n",
    "window.show()\n",
    "\n",
    "# Start the event loop (needed to keep the window open)\n",
    "app.exec()"
   ]
  },
  {
   "cell_type": "code",
   "execution_count": null,
   "id": "efbcec9f-0c62-42f1-83c2-c446fc204693",
   "metadata": {},
   "outputs": [],
   "source": []
  }
 ],
 "metadata": {
  "kernelspec": {
   "display_name": "Python [conda env:base] *",
   "language": "python",
   "name": "conda-base-py"
  },
  "language_info": {
   "codemirror_mode": {
    "name": "ipython",
    "version": 3
   },
   "file_extension": ".py",
   "mimetype": "text/x-python",
   "name": "python",
   "nbconvert_exporter": "python",
   "pygments_lexer": "ipython3",
   "version": "3.13.5"
  }
 },
 "nbformat": 4,
 "nbformat_minor": 5
}
