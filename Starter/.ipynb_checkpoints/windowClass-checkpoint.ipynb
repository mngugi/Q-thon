{
 "cells": [
  {
   "cell_type": "code",
   "execution_count": 2,
   "id": "e2eb30cb-ab5f-452f-9616-37f5479b3861",
   "metadata": {},
   "outputs": [
    {
     "name": "stdout",
     "output_type": "stream",
     "text": [
      "Clicked!!\n",
      "Checked? True\n",
      "Clicked!!\n",
      "Checked? False\n",
      "Clicked!!\n",
      "Checked? True\n",
      "Clicked!!\n",
      "Checked? False\n",
      "Clicked!!\n",
      "Checked? True\n",
      "Clicked!!\n",
      "Checked? False\n",
      "Clicked!!\n",
      "Checked? True\n"
     ]
    },
    {
     "data": {
      "text/plain": [
       "0"
      ]
     },
     "execution_count": 2,
     "metadata": {},
     "output_type": "execute_result"
    }
   ],
   "source": [
    "import sys\n",
    "# Qt imports common ones\n",
    "from PySide6.QtCore import QSize, Qt\n",
    "from PySide6.QtWidgets import QApplication, QMainWindow, QPushButton\n",
    "\n",
    "class mainWindow(QMainWindow):\n",
    "    def __init__(self):   # must call __init__\n",
    "        super().__init__()\n",
    "        self.setWindowTitle(\"Button App\")\n",
    "        self.setFixedSize(QSize(400,300)) #setting the size of the window\n",
    "        self.setMinimumSize(QSize(200,100)) #setting the minimum size for the window\n",
    "        btn = QPushButton(\"Press\")\n",
    "        btn.setCheckable(True)\n",
    "        btn.clicked.connect(self.button_clicked)\n",
    "        btn.clicked.connect(self.btn_toggled) #a checked (or toggled) state for the button\n",
    "        \n",
    "        self.setCentralWidget(btn)  #Use .setCentralWidget to place a widget in the QMainWindow\n",
    "\n",
    "    def button_clicked(self):   #a simple custom slot named button_clicked which  accepts the clicked signal from the QPushButton\n",
    "        print(\"Clicked!!\")\n",
    "\n",
    "    def btn_toggled(self, checked):\n",
    "        print(\"Checked?\", checked)\n",
    "        \n",
    "        \n",
    "app = QApplication.instance()        # Check if QApplication already exists, wrap QAppication in a check\n",
    "\n",
    "if app is None:\n",
    "    app = QApplication(sys.argv) \n",
    "\n",
    "window = mainWindow()\n",
    "window.show()\n",
    "\n",
    "app.exec()\n"
   ]
  },
  {
   "cell_type": "code",
   "execution_count": null,
   "id": "5329bba0-50e3-41ed-b569-ec7efff62ae9",
   "metadata": {},
   "outputs": [],
   "source": []
  },
  {
   "cell_type": "code",
   "execution_count": null,
   "id": "66ae7314-271d-420f-bd59-6ed7eb1163c4",
   "metadata": {},
   "outputs": [],
   "source": []
  }
 ],
 "metadata": {
  "kernelspec": {
   "display_name": "Python [conda env:base] *",
   "language": "python",
   "name": "conda-base-py"
  },
  "language_info": {
   "codemirror_mode": {
    "name": "ipython",
    "version": 3
   },
   "file_extension": ".py",
   "mimetype": "text/x-python",
   "name": "python",
   "nbconvert_exporter": "python",
   "pygments_lexer": "ipython3",
   "version": "3.13.5"
  }
 },
 "nbformat": 4,
 "nbformat_minor": 5
}
