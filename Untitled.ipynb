{
 "cells": [
  {
   "cell_type": "code",
   "execution_count": 1,
   "id": "bc56222d",
   "metadata": {},
   "outputs": [
    {
     "name": "stdout",
     "output_type": "stream",
     "text": [
      "6.9.2\n",
      "6.9.2\n"
     ]
    }
   ],
   "source": [
    "import PySide6.QtCore\n",
    "\n",
    "# Prints PySide6 version\n",
    "print(PySide6.__version__)\n",
    "\n",
    "# Prints the Qt version used to compile PySide6\n",
    "print(PySide6.QtCore.__version__)"
   ]
  },
  {
   "cell_type": "code",
   "execution_count": 3,
   "id": "aa39d02f",
   "metadata": {},
   "outputs": [
    {
     "name": "stderr",
     "output_type": "stream",
     "text": [
      "Gtk-Message: 19:06:21.585: Failed to load module \"canberra-gtk-module\"\n",
      "Gtk-Message: 19:06:21.586: Failed to load module \"canberra-gtk-module\"\n"
     ]
    },
    {
     "data": {
      "text/plain": [
       "0"
      ]
     },
     "execution_count": 3,
     "metadata": {},
     "output_type": "execute_result"
    }
   ],
   "source": [
    "from PySide6.QtWidgets import QApplication, QWidget\n",
    "# Only needed for access to command line arguments\n",
    "import sys\n",
    "# You need one (and only one) QApplication instance per application.\n",
    "# Pass in sys.argv to allow command line arguments for your app.\n",
    "# If you know you won't use command line arguments QApplication([])works too.\n",
    "app = QApplication(sys.argv)\n",
    "# Create a Qt widget, which will be our window.\n",
    "window = QWidget()\n",
    "window.show() # IMPORTANT!!!!! Windows are hidden by default.\n",
    "# Start the event loop.\n",
    "app.exec()\n",
    "# Your application w"
   ]
  },
  {
   "cell_type": "code",
   "execution_count": null,
   "id": "ba9e5a01-5f02-44fc-8081-133ce9fe9c79",
   "metadata": {},
   "outputs": [],
   "source": []
  }
 ],
 "metadata": {
  "kernelspec": {
   "display_name": "Python [conda env:base] *",
   "language": "python",
   "name": "conda-base-py"
  },
  "language_info": {
   "codemirror_mode": {
    "name": "ipython",
    "version": 3
   },
   "file_extension": ".py",
   "mimetype": "text/x-python",
   "name": "python",
   "nbconvert_exporter": "python",
   "pygments_lexer": "ipython3",
   "version": "3.13.5"
  }
 },
 "nbformat": 4,
 "nbformat_minor": 5
}
