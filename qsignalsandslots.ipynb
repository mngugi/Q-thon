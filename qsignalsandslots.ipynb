{
 "cells": [
  {
   "cell_type": "code",
   "execution_count": null,
   "id": "00c5bf31-ce8f-4aac-b18c-c59c70f4e0f6",
   "metadata": {},
   "outputs": [],
   "source": [
    "from PyQt6.QtWidgets import *\n",
    "\n",
    "\n",
    "app = QApplicatio([])\n",
    "btn = QPushButton('Click')\n",
    "\n",
    "\n"
   ]
  }
 ],
 "metadata": {
  "kernelspec": {
   "display_name": "Python [conda env:base] *",
   "language": "python",
   "name": "conda-base-py"
  },
  "language_info": {
   "codemirror_mode": {
    "name": "ipython",
    "version": 3
   },
   "file_extension": ".py",
   "mimetype": "text/x-python",
   "name": "python",
   "nbconvert_exporter": "python",
   "pygments_lexer": "ipython3",
   "version": "3.13.5"
  }
 },
 "nbformat": 4,
 "nbformat_minor": 5
}
