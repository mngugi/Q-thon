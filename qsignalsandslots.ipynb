{
 "cells": [
  {
   "cell_type": "code",
   "execution_count": 2,
   "id": "00c5bf31-ce8f-4aac-b18c-c59c70f4e0f6",
   "metadata": {},
   "outputs": [
    {
     "name": "stderr",
     "output_type": "stream",
     "text": [
      "Gtk-Message: 21:43:00.135: Failed to load module \"canberra-gtk-module\"\n",
      "Gtk-Message: 21:43:00.136: Failed to load module \"canberra-gtk-module\"\n"
     ]
    },
    {
     "data": {
      "text/plain": [
       "0"
      ]
     },
     "execution_count": 2,
     "metadata": {},
     "output_type": "execute_result"
    }
   ],
   "source": [
    "from PyQt6.QtWidgets import *\n",
    "\n",
    "\n",
    "app = QApplication([])\n",
    "btn = QPushButton('Click')\n",
    "\n",
    "def onbuttonClick():\n",
    "    alert = QMessageBox()\n",
    "    alert.setText('button clicked')\n",
    "    alert.exec()\n",
    "    \n",
    "btn.clicked.connect(onbuttonClick)    \n",
    "btn.show()\n",
    "app.exec()\n",
    "\n"
   ]
  },
  {
   "cell_type": "code",
   "execution_count": null,
   "id": "c4a6c93d-8357-4d17-b701-ad7001fb9ede",
   "metadata": {},
   "outputs": [],
   "source": []
  }
 ],
 "metadata": {
  "kernelspec": {
   "display_name": "Python [conda env:base] *",
   "language": "python",
   "name": "conda-base-py"
  },
  "language_info": {
   "codemirror_mode": {
    "name": "ipython",
    "version": 3
   },
   "file_extension": ".py",
   "mimetype": "text/x-python",
   "name": "python",
   "nbconvert_exporter": "python",
   "pygments_lexer": "ipython3",
   "version": "3.13.5"
  }
 },
 "nbformat": 4,
 "nbformat_minor": 5
}
