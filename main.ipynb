{
 "cells": [
  {
   "cell_type": "code",
   "execution_count": 2,
   "id": "514f23eb-23ae-4371-9320-52366af5f785",
   "metadata": {},
   "outputs": [
    {
     "ename": "ImportError",
     "evalue": "libgssapi_krb5.so.2: cannot open shared object file: No such file or directory",
     "output_type": "error",
     "traceback": [
      "\u001b[0;31m---------------------------------------------------------------------------\u001b[0m",
      "\u001b[0;31mImportError\u001b[0m                               Traceback (most recent call last)",
      "Cell \u001b[0;32mIn[2], line 1\u001b[0m\n\u001b[0;32m----> 1\u001b[0m \u001b[38;5;28;01mfrom\u001b[39;00m\u001b[38;5;250m \u001b[39m\u001b[38;5;21;01mPyQt6\u001b[39;00m\u001b[38;5;21;01m.\u001b[39;00m\u001b[38;5;21;01mQtQml\u001b[39;00m\u001b[38;5;250m \u001b[39m\u001b[38;5;28;01mimport\u001b[39;00m QQmlApplicationEngine\n\u001b[1;32m      2\u001b[0m \u001b[38;5;28;01mfrom\u001b[39;00m\u001b[38;5;250m \u001b[39m\u001b[38;5;21;01mPyQt6\u001b[39;00m\u001b[38;5;21;01m.\u001b[39;00m\u001b[38;5;21;01mQtWidgets\u001b[39;00m\u001b[38;5;250m \u001b[39m\u001b[38;5;28;01mimport\u001b[39;00m QApplication\n\u001b[1;32m      4\u001b[0m app \u001b[38;5;241m=\u001b[39m QApplication([])\n",
      "\u001b[0;31mImportError\u001b[0m: libgssapi_krb5.so.2: cannot open shared object file: No such file or directory"
     ]
    }
   ],
   "source": [
    "from PyQt6.QtQml import QQmlApplicationEngine\n",
    "from PyQt6.QtWidgets import QApplication\n",
    "\n",
    "app = QApplication([])\n",
    "engine = QQmlApplicationEngine()\n",
    "engine.load(\"main.qml\")\n",
    "app.exec()"
   ]
  },
  {
   "cell_type": "code",
   "execution_count": 5,
   "id": "b87b9c02-a9e3-4bef-9108-83e6729ce79b",
   "metadata": {},
   "outputs": [
    {
     "name": "stdout",
     "output_type": "stream",
     "text": [
      "Collecting kerberos\n",
      "  Downloading kerberos-1.3.1.tar.gz (19 kB)\n",
      "  Preparing metadata (setup.py) ... \u001b[?25ldone\n",
      "\u001b[?25hBuilding wheels for collected packages: kerberos\n",
      "\u001b[33m  DEPRECATION: Building 'kerberos' using the legacy setup.py bdist_wheel mechanism, which will be removed in a future version. pip 25.3 will enforce this behaviour change. A possible replacement is to use the standardized build interface by setting the `--use-pep517` option, (possibly combined with `--no-build-isolation`), or adding a `pyproject.toml` file to the source tree of 'kerberos'. Discussion can be found at https://github.com/pypa/pip/issues/6334\u001b[0m\u001b[33m\n",
      "  Building wheel for kerberos (setup.py) ... \u001b[?25error\n",
      "  \u001b[1;31merror\u001b[0m: \u001b[1msubprocess-exited-with-error\u001b[0m\n",
      "  \n",
      "  \u001b[31m×\u001b[0m \u001b[32mpython setup.py bdist_wheel\u001b[0m did not run successfully.\n",
      "  \u001b[31m│\u001b[0m exit code: \u001b[1;36m1\u001b[0m\n",
      "  \u001b[31m╰─>\u001b[0m \u001b[31m[9 lines of output]\u001b[0m\n",
      "  \u001b[31m   \u001b[0m running bdist_wheel\n",
      "  \u001b[31m   \u001b[0m running build\n",
      "  \u001b[31m   \u001b[0m running build_ext\n",
      "  \u001b[31m   \u001b[0m building 'kerberos' extension\n",
      "  \u001b[31m   \u001b[0m creating build\n",
      "  \u001b[31m   \u001b[0m creating build/temp.linux-x86_64-cpython-313\n",
      "  \u001b[31m   \u001b[0m creating build/temp.linux-x86_64-cpython-313/src\n",
      "  \u001b[31m   \u001b[0m gcc -pthread -B /home/alma86/anaconda3/compiler_compat -fno-strict-overflow -Wsign-compare -DNDEBUG -O2 -Wall -fPIC -O2 -isystem /home/alma86/anaconda3/include -fPIC -O2 -isystem /home/alma86/anaconda3/include -fPIC -I/home/alma86/anaconda3/include/python3.13 -c src/base64.c -o build/temp.linux-x86_64-cpython-313/src/base64.o -I/home/alma86/anaconda3/include\n",
      "  \u001b[31m   \u001b[0m error: command 'gcc' failed: No such file or directory\n",
      "  \u001b[31m   \u001b[0m \u001b[31m[end of output]\u001b[0m\n",
      "  \n",
      "  \u001b[1;35mnote\u001b[0m: This error originates from a subprocess, and is likely not a problem with pip.\n",
      "\u001b[31m  ERROR: Failed building wheel for kerberos\u001b[0m\u001b[31m\n",
      "\u001b[0m\u001b[?25h  Running setup.py clean for kerberos\n",
      "Failed to build kerberos\n",
      "\u001b[31mERROR: Failed to build installable wheels for some pyproject.toml based projects (kerberos)\u001b[0m\u001b[31m\n",
      "\u001b[0m"
     ]
    }
   ],
   "source": [
    "!pip install kerberos"
   ]
  },
  {
   "cell_type": "code",
   "execution_count": null,
   "id": "ccc84d49-a66c-447a-beb4-71c2cd247331",
   "metadata": {},
   "outputs": [],
   "source": []
  }
 ],
 "metadata": {
  "kernelspec": {
   "display_name": "Python [conda env:base] *",
   "language": "python",
   "name": "conda-base-py"
  },
  "language_info": {
   "codemirror_mode": {
    "name": "ipython",
    "version": 3
   },
   "file_extension": ".py",
   "mimetype": "text/x-python",
   "name": "python",
   "nbconvert_exporter": "python",
   "pygments_lexer": "ipython3",
   "version": "3.13.5"
  }
 },
 "nbformat": 4,
 "nbformat_minor": 5
}
